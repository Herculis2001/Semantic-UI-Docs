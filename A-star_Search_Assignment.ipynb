{
  "nbformat": 4,
  "nbformat_minor": 0,
  "metadata": {
    "colab": {
      "name": "Assignment-4.ipynb",
      "provenance": [],
      "collapsed_sections": [],
      "authorship_tag": "ABX9TyMv6nxjaNOBCUZvE5W/iLwO",
      "include_colab_link": true
    },
    "kernelspec": {
      "name": "python3",
      "display_name": "Python 3"
    },
    "language_info": {
      "name": "python"
    }
  },
  "cells": [
    {
      "cell_type": "markdown",
      "metadata": {
        "id": "view-in-github",
        "colab_type": "text"
      },
      "source": [
        "<a href=\"https://colab.research.google.com/github/Herculis2001/Semantic-UI-Docs/blob/master/A-star_Search_Assignment.ipynb\" target=\"_parent\"><img src=\"https://colab.research.google.com/assets/colab-badge.svg\" alt=\"Open In Colab\"/></a>"
      ]
    },
    {
      "cell_type": "code",
      "execution_count": null,
      "metadata": {
        "id": "AhGUJTxhJnfB"
      },
      "outputs": [],
      "source": [
        "# pip install prioQbyrobi"
      ]
    },
    {
      "cell_type": "code",
      "source": [
        "import prioQbyrobi as Q"
      ],
      "metadata": {
        "id": "iikpP1C1k9fD"
      },
      "execution_count": null,
      "outputs": []
    },
    {
      "cell_type": "code",
      "source": [
        "class Node(object):\n",
        "    def __init__(self, total_cost, node_no, a_cost, prev_obj):\n",
        "        self.total_cost = total_cost\n",
        "        self.node_no = node_no\n",
        "        self.a_cost = a_cost\n",
        "        self.prev_obj = prev_obj\n",
        "queue = Q.PriorityQueue()"
      ],
      "metadata": {
        "id": "Mlcm9w4Ai6Zx"
      },
      "execution_count": null,
      "outputs": []
    },
    {
      "cell_type": "code",
      "source": [
        "node_dic = {0: 'S', 1: 'A', 2: 'B', 3: 'C', 4: 'D'}\n",
        "\n",
        "hv = [7, 6, 2, 1, 0]\n",
        "\n",
        "adj_mat = [[-1, 1, 4, -1, -1],\n",
        "           [-1, -1, 2, 5, 12],\n",
        "           [-1, -1, -1, 2, -1],\n",
        "           [-1, -1, -1, -1, 3],\n",
        "           [-1, -1, -1, -1, -1]\n",
        "           ]\n"
      ],
      "metadata": {
        "id": "MxePuZBki9BX"
      },
      "execution_count": null,
      "outputs": []
    },
    {
      "cell_type": "code",
      "source": [
        "node = Node(0 + hv[0], 0, 0, None)\n",
        "queue.insert(node)"
      ],
      "metadata": {
        "id": "pyoO1rudjJAg"
      },
      "execution_count": null,
      "outputs": []
    },
    {
      "cell_type": "code",
      "source": [
        "while queue.size() != 0:\n",
        "    extract_min = queue.delete()\n",
        "    current_node = extract_min.node_no\n",
        "    prev_act_cost = extract_min.a_cost\n",
        "\n",
        "    if current_node == 4:\n",
        "        path = []\n",
        "        t_cost = extract_min.a_cost\n",
        "        path.append(node_dic[extract_min.node_no])\n",
        "        while extract_min.prev_obj is not None:\n",
        "            extract_min = extract_min.prev_obj\n",
        "            path.append(node_dic[extract_min.node_no])\n",
        "\n",
        "        path.reverse()\n",
        "        print('The Optimal Path is: ', path)\n",
        "        print('The Optimal Total Cost is:', t_cost)\n",
        "        break\n",
        "    else:\n",
        "        track_node = 0\n",
        "        for x in adj_mat[current_node]:\n",
        "            if x != -1:\n",
        "                cur_node = track_node\n",
        "                h_cost = prev_act_cost + x\n",
        "                t_cost = h_cost + hv[track_node]\n",
        "                previous_node = extract_min\n",
        "                node = Node(t_cost, cur_node, h_cost, previous_node)\n",
        "                queue.insert(node)\n",
        "            track_node += 1"
      ],
      "metadata": {
        "colab": {
          "base_uri": "https://localhost:8080/"
        },
        "id": "j1IQ3IZzjL5h",
        "outputId": "dafe0c26-9db1-45a4-fd8c-87fd24d40a53"
      },
      "execution_count": null,
      "outputs": [
        {
          "output_type": "stream",
          "name": "stdout",
          "text": [
            "The Optimal Path is:  ['S', 'A', 'B', 'C', 'D']\n",
            "The Optimal Total Cost is: 8\n"
          ]
        }
      ]
    }
  ]
}